{
 "cells": [
  {
   "attachments": {},
   "cell_type": "markdown",
   "metadata": {},
   "source": [
    "# Import Libraries"
   ]
  },
  {
   "cell_type": "code",
   "execution_count": 2,
   "metadata": {},
   "outputs": [],
   "source": [
    "from ecofuture.preproc.chiplets import load_chiplets\n",
    "import glob\n",
    "import pathlib\n",
    "import itertools\n",
    "import random\n",
    "from tqdm import tqdm\n",
    "from collections import Counter\n",
    "from scipy.stats import chi2_contingency\n"
   ]
  },
  {
   "attachments": {},
   "cell_type": "markdown",
   "metadata": {},
   "source": [
    "# Sampling Chips "
   ]
  },
  {
   "cell_type": "code",
   "execution_count": 3,
   "metadata": {},
   "outputs": [],
   "source": [
    "subset_instance_nums = list(range(1,13000,100))\n",
    "\n",
    "chiplets = load_chiplets(\n",
    "    chiplet_dir=pathlib.Path(\"/data/projects/punim1932/Data/chiplets/level4\"),\n",
    "    subset_nums=[\"3\"],\n",
    "    measurement=\"level4\",\n",
    "    subset_instance_nums=subset_instance_nums\n",
    ")"
   ]
  },
  {
   "cell_type": "code",
   "execution_count": 4,
   "metadata": {},
   "outputs": [],
   "source": [
    "chiplet_data=[]\n",
    "for chiplet in chiplets:\n",
    "    chiplet_data.append((chiplet.year,chiplet.data,chiplet.position))"
   ]
  },
  {
   "attachments": {},
   "cell_type": "markdown",
   "metadata": {},
   "source": [
    "# Hypothesis Testing"
   ]
  },
  {
   "cell_type": "code",
   "execution_count": 38,
   "metadata": {},
   "outputs": [],
   "source": [
    "alpha = 0.3"
   ]
  },
  {
   "cell_type": "code",
   "execution_count": 26,
   "metadata": {},
   "outputs": [],
   "source": [
    "position_distributions = {}\n",
    "for year, data, position in chiplet_data:\n",
    "    tfid_distribution = Counter(data.flatten())\n",
    "    if position in position_distributions:\n",
    "        position_distributions[position].append(tfid_distribution)\n",
    "    else:\n",
    "        position_distributions[position] = [tfid_distribution]"
   ]
  },
  {
   "cell_type": "code",
   "execution_count": 41,
   "metadata": {},
   "outputs": [],
   "source": [
    "# Perform hypothesis testing for each position\n",
    "failed_hypothesis=0\n",
    "total_hypothesis=0\n",
    "for position, distributions in list(position_distributions.items()):\n",
    "    n_years = len(distributions)\n",
    "    for i in range(n_years - 1):\n",
    "        distribution1 = distributions[i]\n",
    "        distribution2 = distributions[i + 1]\n",
    "\n",
    "        # Create contingency table for chi-square test\n",
    "        contingency_table = []\n",
    "        for tfid in set(distribution1.keys()).union(distribution2.keys()):\n",
    "            count1 = distribution1.get(tfid, 0)\n",
    "            count2 = distribution2.get(tfid, 0)\n",
    "            contingency_table.append([count1, count2])\n",
    "        # Perform chi-square test\n",
    "        chi2, p_value, _, _ = chi2_contingency(contingency_table)\n",
    "\n",
    "        # Compare p-value with significance level\n",
    "        if p_value < alpha:\n",
    "            failed_hypothesis+=1\n",
    "        total_hypothesis+=1"
   ]
  },
  {
   "cell_type": "code",
   "execution_count": 42,
   "metadata": {},
   "outputs": [
    {
     "data": {
      "text/plain": [
       "99.94871794871794"
      ]
     },
     "execution_count": 42,
     "metadata": {},
     "output_type": "execute_result"
    }
   ],
   "source": [
    "failed_hypothesis/total_hypothesis * 100 #At 0.05"
   ]
  },
  {
   "cell_type": "code",
   "execution_count": 24,
   "metadata": {},
   "outputs": [
    {
     "data": {
      "text/plain": [
       "99.94871794871794"
      ]
     },
     "execution_count": 24,
     "metadata": {},
     "output_type": "execute_result"
    }
   ],
   "source": [
    "failed_hypothesis/total_hypothesis * 100 #At 0.3"
   ]
  },
  {
   "cell_type": "code",
   "execution_count": null,
   "metadata": {},
   "outputs": [],
   "source": [
    "# Define the significance level for the hypothesis test\n",
    "alpha = 0.05"
   ]
  }
 ],
 "metadata": {
  "kernelspec": {
   "display_name": "ecofuture",
   "language": "python",
   "name": "ecofuture"
  },
  "language_info": {
   "codemirror_mode": {
    "name": "ipython",
    "version": 3
   },
   "file_extension": ".py",
   "mimetype": "text/x-python",
   "name": "python",
   "nbconvert_exporter": "python",
   "pygments_lexer": "ipython3",
   "version": "3.9.7"
  },
  "orig_nbformat": 4
 },
 "nbformat": 4,
 "nbformat_minor": 2
}
