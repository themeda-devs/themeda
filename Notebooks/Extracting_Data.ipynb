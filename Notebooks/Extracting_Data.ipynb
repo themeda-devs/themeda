{
 "cells": [
  {
   "cell_type": "markdown",
   "id": "85af8aec-c649-41e0-b142-f928bf1fd480",
   "metadata": {},
   "source": [
    "# Import Libraries"
   ]
  },
  {
   "cell_type": "code",
   "execution_count": 117,
   "id": "ca718cd4-6430-4eef-8795-0753397cf370",
   "metadata": {},
   "outputs": [],
   "source": [
    "%matplotlib inline\n",
    "from tqdm import tqdm\n",
    "import sys\n",
    "import statistics\n",
    "import datacube\n",
    "import matplotlib.pyplot as plt\n",
    "import pandas as pd\n",
    "import numpy as np\n",
    "import random\n",
    "sys.path.insert(1, \"../Tools/\")\n",
    "from dea_tools.plotting import rgb, display_map\n",
    "from dea_tools.landcover import plot_land_cover\n",
    "from matplotlib import colors as mcolours\n",
    "import geopandas as gpd\n",
    "from shapely.geometry import MultiPolygon, Polygon"
   ]
  },
  {
   "cell_type": "markdown",
   "id": "5f8beb78-399d-4201-880d-a178a894a168",
   "metadata": {},
   "source": [
    "# Create a datacube"
   ]
  },
  {
   "cell_type": "code",
   "execution_count": 2,
   "id": "42f40a92-132f-4932-be59-48de6a52dac0",
   "metadata": {},
   "outputs": [],
   "source": [
    "dc = datacube.Datacube(app=\"DEA_Land_Cover_Savannah_2\")"
   ]
  },
  {
   "cell_type": "markdown",
   "id": "d0d4009e-ab17-41bc-b967-c524ccdf77e4",
   "metadata": {},
   "source": [
    "# Choose a product"
   ]
  },
  {
   "cell_type": "code",
   "execution_count": 3,
   "id": "fc0748cd-7736-42b0-b84c-3d62a8c9ed4e",
   "metadata": {},
   "outputs": [
    {
     "data": {
      "text/html": [
       "<div>\n",
       "<style scoped>\n",
       "    .dataframe tbody tr th:only-of-type {\n",
       "        vertical-align: middle;\n",
       "    }\n",
       "\n",
       "    .dataframe tbody tr th {\n",
       "        vertical-align: top;\n",
       "    }\n",
       "\n",
       "    .dataframe thead th {\n",
       "        text-align: right;\n",
       "    }\n",
       "</style>\n",
       "<table border=\"1\" class=\"dataframe\">\n",
       "  <thead>\n",
       "    <tr style=\"text-align: right;\">\n",
       "      <th></th>\n",
       "      <th>name</th>\n",
       "      <th>dtype</th>\n",
       "      <th>units</th>\n",
       "      <th>nodata</th>\n",
       "      <th>aliases</th>\n",
       "      <th>flags_definition</th>\n",
       "    </tr>\n",
       "    <tr>\n",
       "      <th>measurement</th>\n",
       "      <th></th>\n",
       "      <th></th>\n",
       "      <th></th>\n",
       "      <th></th>\n",
       "      <th></th>\n",
       "      <th></th>\n",
       "    </tr>\n",
       "  </thead>\n",
       "  <tbody>\n",
       "    <tr>\n",
       "      <th>level3</th>\n",
       "      <td>level3</td>\n",
       "      <td>uint8</td>\n",
       "      <td>1</td>\n",
       "      <td>0</td>\n",
       "      <td>NaN</td>\n",
       "      <td>NaN</td>\n",
       "    </tr>\n",
       "    <tr>\n",
       "      <th>lifeform_veg_cat_l4a</th>\n",
       "      <td>lifeform_veg_cat_l4a</td>\n",
       "      <td>uint8</td>\n",
       "      <td>1</td>\n",
       "      <td>0</td>\n",
       "      <td>[lifeform]</td>\n",
       "      <td>NaN</td>\n",
       "    </tr>\n",
       "    <tr>\n",
       "      <th>canopyco_veg_cat_l4d</th>\n",
       "      <td>canopyco_veg_cat_l4d</td>\n",
       "      <td>uint8</td>\n",
       "      <td>1</td>\n",
       "      <td>0</td>\n",
       "      <td>[vegetation_cover]</td>\n",
       "      <td>NaN</td>\n",
       "    </tr>\n",
       "    <tr>\n",
       "      <th>watersea_veg_cat_l4a_au</th>\n",
       "      <td>watersea_veg_cat_l4a_au</td>\n",
       "      <td>uint8</td>\n",
       "      <td>1</td>\n",
       "      <td>0</td>\n",
       "      <td>[water_seasonality]</td>\n",
       "      <td>NaN</td>\n",
       "    </tr>\n",
       "    <tr>\n",
       "      <th>waterstt_wat_cat_l4a</th>\n",
       "      <td>waterstt_wat_cat_l4a</td>\n",
       "      <td>uint8</td>\n",
       "      <td>1</td>\n",
       "      <td>0</td>\n",
       "      <td>[water_state]</td>\n",
       "      <td>NaN</td>\n",
       "    </tr>\n",
       "    <tr>\n",
       "      <th>inttidal_wat_cat_l4a</th>\n",
       "      <td>inttidal_wat_cat_l4a</td>\n",
       "      <td>uint8</td>\n",
       "      <td>1</td>\n",
       "      <td>0</td>\n",
       "      <td>[intertidal]</td>\n",
       "      <td>NaN</td>\n",
       "    </tr>\n",
       "    <tr>\n",
       "      <th>waterper_wat_cat_l4d_au</th>\n",
       "      <td>waterper_wat_cat_l4d_au</td>\n",
       "      <td>uint8</td>\n",
       "      <td>1</td>\n",
       "      <td>0</td>\n",
       "      <td>[water_persistence]</td>\n",
       "      <td>NaN</td>\n",
       "    </tr>\n",
       "    <tr>\n",
       "      <th>baregrad_phy_cat_l4d_au</th>\n",
       "      <td>baregrad_phy_cat_l4d_au</td>\n",
       "      <td>uint8</td>\n",
       "      <td>1</td>\n",
       "      <td>0</td>\n",
       "      <td>[bare_gradation]</td>\n",
       "      <td>NaN</td>\n",
       "    </tr>\n",
       "    <tr>\n",
       "      <th>level4</th>\n",
       "      <td>level4</td>\n",
       "      <td>uint8</td>\n",
       "      <td>1</td>\n",
       "      <td>0</td>\n",
       "      <td>[full_classification]</td>\n",
       "      <td>NaN</td>\n",
       "    </tr>\n",
       "  </tbody>\n",
       "</table>\n",
       "</div>"
      ],
      "text/plain": [
       "                                            name  dtype units nodata  \\\n",
       "measurement                                                            \n",
       "level3                                    level3  uint8     1      0   \n",
       "lifeform_veg_cat_l4a        lifeform_veg_cat_l4a  uint8     1      0   \n",
       "canopyco_veg_cat_l4d        canopyco_veg_cat_l4d  uint8     1      0   \n",
       "watersea_veg_cat_l4a_au  watersea_veg_cat_l4a_au  uint8     1      0   \n",
       "waterstt_wat_cat_l4a        waterstt_wat_cat_l4a  uint8     1      0   \n",
       "inttidal_wat_cat_l4a        inttidal_wat_cat_l4a  uint8     1      0   \n",
       "waterper_wat_cat_l4d_au  waterper_wat_cat_l4d_au  uint8     1      0   \n",
       "baregrad_phy_cat_l4d_au  baregrad_phy_cat_l4d_au  uint8     1      0   \n",
       "level4                                    level4  uint8     1      0   \n",
       "\n",
       "                                       aliases flags_definition  \n",
       "measurement                                                      \n",
       "level3                                     NaN              NaN  \n",
       "lifeform_veg_cat_l4a                [lifeform]              NaN  \n",
       "canopyco_veg_cat_l4d        [vegetation_cover]              NaN  \n",
       "watersea_veg_cat_l4a_au    [water_seasonality]              NaN  \n",
       "waterstt_wat_cat_l4a             [water_state]              NaN  \n",
       "inttidal_wat_cat_l4a              [intertidal]              NaN  \n",
       "waterper_wat_cat_l4d_au    [water_persistence]              NaN  \n",
       "baregrad_phy_cat_l4d_au       [bare_gradation]              NaN  \n",
       "level4                   [full_classification]              NaN  "
      ]
     },
     "execution_count": 3,
     "metadata": {},
     "output_type": "execute_result"
    }
   ],
   "source": [
    "product = \"ga_ls_landcover_class_cyear_2\"\n",
    "\n",
    "measurements = dc.list_measurements()\n",
    "measurements.loc[product]"
   ]
  },
  {
   "cell_type": "markdown",
   "id": "0f05f9b1-f5d7-4b10-9125-cf0ab14186c6",
   "metadata": {},
   "source": [
    "# Load Geojson file for Savannah "
   ]
  },
  {
   "cell_type": "code",
   "execution_count": 4,
   "id": "9dbe22b0-a100-4f0a-a912-8909594f17b6",
   "metadata": {},
   "outputs": [
    {
     "name": "stdout",
     "output_type": "stream",
     "text": [
      "   FID REG_CODE_7    REG_NAME_7     HECTARES       SQ_KM  REC_ID REG_CODE_6  \\\n",
      "0    0        ARC  Arnhem Coast  3335668.565  110.782098       1        ARC   \n",
      "\n",
      "     REG_NAME_6  REG_NO_61          FEAT_ID  Shape_Leng  Shape_Area  \\\n",
      "0  Arnhem Coast         81  GA_100K_Islands   52.135362    2.774143   \n",
      "\n",
      "                                            geometry  \n",
      "0  POLYGON ((132.88061 -11.33308, 132.87942 -11.3...  \n"
     ]
    }
   ],
   "source": [
    "# Load the GeoJSON file\n",
    "shapefile = gpd.read_file('NAust_mask_IBRA_WGS1984.geojson')\n",
    "\n",
    "# Print the shapefile\n",
    "print(shapefile)"
   ]
  },
  {
   "cell_type": "code",
   "execution_count": 5,
   "id": "7cb67b16-fa6a-44a6-8464-2993f435b999",
   "metadata": {},
   "outputs": [],
   "source": [
    "geojson_dict = shapefile.geometry.__geo_interface__"
   ]
  },
  {
   "cell_type": "code",
   "execution_count": 36,
   "id": "a08790b0-f8a8-43bd-97a3-faf011a4ccf0",
   "metadata": {},
   "outputs": [],
   "source": [
    "# Get the bounding box of the GeoJSON\n",
    "bounds = shapefile.total_bounds"
   ]
  },
  {
   "cell_type": "code",
   "execution_count": 105,
   "id": "63684c69-8b7a-4d75-b085-381442b58e17",
   "metadata": {},
   "outputs": [],
   "source": [
    "# Get the width and height of the bounding box\n",
    "width = bounds[2] - bounds[0]\n",
    "height = bounds[3] - bounds[1]"
   ]
  },
  {
   "cell_type": "code",
   "execution_count": 107,
   "id": "50681b9a-fb55-48b9-8f98-aac9f110b0d4",
   "metadata": {},
   "outputs": [
    {
     "name": "stdout",
     "output_type": "stream",
     "text": [
      "125307\n"
     ]
    }
   ],
   "source": [
    "# Define the desired chunk width and height\n",
    "chunk_width = 0.05 # in degrees\n",
    "chunk_height = 0.05 # in degrees\n",
    "\n",
    "# Calculate the number of chunks needed to cover the entire area\n",
    "# bounds is a tuple containing (left, bottom, right, top) coordinates\n",
    "n_chunks_x = int(np.ceil((bounds[2] - bounds[0]) / chunk_width))  # number of chunks in the x direction\n",
    "n_chunks_y = int(np.ceil((bounds[3] - bounds[1]) / chunk_height))  # number of chunks in the y direction\n",
    "n_chunks = n_chunks_x * n_chunks_y  # total number of chunks needed to cover the area\n",
    "print(n_chunks)\n",
    "\n",
    "# Create a list to store the chunks\n",
    "chunks = []\n",
    "\n",
    "# Loop through all the chunks and create a Polygon for each one\n",
    "for i in range(n_chunks_y):  # loop through the y direction\n",
    "    for j in range(n_chunks_x):  # loop through the x direction\n",
    "        # Calculate the bounds of the current chunk\n",
    "        left = bounds[0] + j * chunk_width\n",
    "        right = bounds[0] + (j + 1) * chunk_width\n",
    "        bottom = bounds[1] + i * chunk_height\n",
    "        top = bounds[1] + (i + 1) * chunk_height\n",
    "\n",
    "        # Create a Polygon object for the current chunk\n",
    "        polygon = Polygon([(left, bottom), (left, top), (right, top), (right, bottom)])\n",
    "\n",
    "        # Add the Polygon to the list of chunks\n",
    "        chunks.append(MultiPolygon([polygon]))"
   ]
  },
  {
   "cell_type": "code",
   "execution_count": 63,
   "id": "56247f5a-d93a-49fa-adf9-eff9364cfba4",
   "metadata": {
    "jupyter": {
     "source_hidden": true
    },
    "tags": []
   },
   "outputs": [],
   "source": [
    "# Create a list of chunks\n",
    "chunks = []\n",
    "for i in range(n_chunks):\n",
    "    # Calculate the bounds of the chunk\n",
    "    left = bounds[0] + i * chunk_width\n",
    "    right = bounds[0] + (i + 1) * chunk_width\n",
    "    bottom = bounds[1]\n",
    "    top = bounds[1] + chunk_height\n",
    "\n",
    "    # Create the polygon for the chunk\n",
    "    polygon = Polygon([(left, bottom), (left, top), (right, top), (right, bottom)])\n",
    "    \n",
    "    # Add the chunk to the list\n",
    "    chunks.append(MultiPolygon([polygon]))\n",
    "\n",
    "# # Print the chunks\n",
    "# print(chunks)"
   ]
  },
  {
   "cell_type": "code",
   "execution_count": 108,
   "id": "a3120f81-4982-441e-9f03-99cb5c511449",
   "metadata": {},
   "outputs": [],
   "source": [
    "# Define a dictionary of properties for each chunk\n",
    "properties = {\"name\": [f\"chunk_{i}\" for i in range(n_chunks)]}"
   ]
  },
  {
   "cell_type": "code",
   "execution_count": 109,
   "id": "c0bd625e-bfc3-46b9-abe1-1488cf3f8c4c",
   "metadata": {},
   "outputs": [
    {
     "name": "stdout",
     "output_type": "stream",
     "text": [
      "                name                                           geometry\n",
      "0            chunk_0  MULTIPOLYGON (((119.36611 -21.71351, 119.36611...\n",
      "1            chunk_1  MULTIPOLYGON (((119.41611 -21.71351, 119.41611...\n",
      "2            chunk_2  MULTIPOLYGON (((119.46611 -21.71351, 119.46611...\n",
      "3            chunk_3  MULTIPOLYGON (((119.51611 -21.71351, 119.51611...\n",
      "4            chunk_4  MULTIPOLYGON (((119.56611 -21.71351, 119.56611...\n",
      "...              ...                                                ...\n",
      "125302  chunk_125302  MULTIPOLYGON (((147.46611 -10.71351, 147.46611...\n",
      "125303  chunk_125303  MULTIPOLYGON (((147.51611 -10.71351, 147.51611...\n",
      "125304  chunk_125304  MULTIPOLYGON (((147.56611 -10.71351, 147.56611...\n",
      "125305  chunk_125305  MULTIPOLYGON (((147.61611 -10.71351, 147.61611...\n",
      "125306  chunk_125306  MULTIPOLYGON (((147.66611 -10.71351, 147.66611...\n",
      "\n",
      "[125307 rows x 2 columns]\n"
     ]
    }
   ],
   "source": [
    "# Create a GeoDataFrame for the chunks\n",
    "chunks_gdf = gpd.GeoDataFrame(properties, geometry=chunks)\n",
    "\n",
    "# Print the GeoDataFrame\n",
    "print(chunks_gdf)"
   ]
  },
  {
   "cell_type": "code",
   "execution_count": null,
   "id": "35b06030-124d-4088-a9da-0c586c00f4b1",
   "metadata": {
    "tags": []
   },
   "outputs": [
    {
     "name": "stderr",
     "output_type": "stream",
     "text": [
      "  0%|          | 0/200 [00:00<?, ?it/s]"
     ]
    }
   ],
   "source": [
    "savannah_chips_sampled=[]\n",
    "for chunk in tqdm(random.sample(chunks_gdf.to_dict(\"records\"),200)):\n",
    "    # Create the 'query' dictionary object, which contains the longitudes, latitudes and time defined above\n",
    "    query = {\n",
    "        \"y\": (chunk['geometry'].bounds[1],chunk['geometry'].bounds[3]),\n",
    "        \"x\": (chunk['geometry'].bounds[0],chunk['geometry'].bounds[2]),\n",
    "        \"time\": (1988,2020),\n",
    "    }\n",
    "\n",
    "    # Load DEA Land Cover data from the datacube\n",
    "    chip = dc.load(\n",
    "        product=\"ga_ls_landcover_class_cyear_2\",\n",
    "        output_crs=\"EPSG:3577\",\n",
    "        resolution=(-25, 25),\n",
    "        **query\n",
    "    )\n",
    "    savannah_chips_sampled.append(chip)"
   ]
  },
  {
   "cell_type": "code",
   "execution_count": null,
   "id": "a1d0955d-8305-4312-ba14-4d8a8c5037b8",
   "metadata": {},
   "outputs": [],
   "source": [
    "chunk_0=chunks_gdf.to_dict('records')[70]"
   ]
  },
  {
   "cell_type": "code",
   "execution_count": 112,
   "id": "6af2b521-5ee0-41ea-8018-c9b71540d965",
   "metadata": {
    "collapsed": true,
    "jupyter": {
     "outputs_hidden": true
    },
    "tags": []
   },
   "outputs": [
    {
     "data": {
      "text/html": [
       "<div style=\"width:100%;\"><div style=\"position:relative;width:100%;height:0;padding-bottom:60%;\"><span style=\"color:#565656\">Make this Notebook Trusted to load map: File -> Trust Notebook</span><iframe srcdoc=\"&lt;!DOCTYPE html&gt;\n",
       "&lt;html&gt;\n",
       "&lt;head&gt;\n",
       "    \n",
       "    &lt;meta http-equiv=&quot;content-type&quot; content=&quot;text/html; charset=UTF-8&quot; /&gt;\n",
       "    \n",
       "        &lt;script&gt;\n",
       "            L_NO_TOUCH = false;\n",
       "            L_DISABLE_3D = false;\n",
       "        &lt;/script&gt;\n",
       "    \n",
       "    &lt;style&gt;html, body {width: 100%;height: 100%;margin: 0;padding: 0;}&lt;/style&gt;\n",
       "    &lt;style&gt;#map {position:absolute;top:0;bottom:0;right:0;left:0;}&lt;/style&gt;\n",
       "    &lt;script src=&quot;https://cdn.jsdelivr.net/npm/leaflet@1.9.3/dist/leaflet.js&quot;&gt;&lt;/script&gt;\n",
       "    &lt;script src=&quot;https://code.jquery.com/jquery-1.12.4.min.js&quot;&gt;&lt;/script&gt;\n",
       "    &lt;script src=&quot;https://cdn.jsdelivr.net/npm/bootstrap@5.2.2/dist/js/bootstrap.bundle.min.js&quot;&gt;&lt;/script&gt;\n",
       "    &lt;script src=&quot;https://cdnjs.cloudflare.com/ajax/libs/Leaflet.awesome-markers/2.0.2/leaflet.awesome-markers.js&quot;&gt;&lt;/script&gt;\n",
       "    &lt;link rel=&quot;stylesheet&quot; href=&quot;https://cdn.jsdelivr.net/npm/leaflet@1.9.3/dist/leaflet.css&quot;/&gt;\n",
       "    &lt;link rel=&quot;stylesheet&quot; href=&quot;https://cdn.jsdelivr.net/npm/bootstrap@5.2.2/dist/css/bootstrap.min.css&quot;/&gt;\n",
       "    &lt;link rel=&quot;stylesheet&quot; href=&quot;https://netdna.bootstrapcdn.com/bootstrap/3.0.0/css/bootstrap.min.css&quot;/&gt;\n",
       "    &lt;link rel=&quot;stylesheet&quot; href=&quot;https://cdn.jsdelivr.net/npm/@fortawesome/fontawesome-free@6.2.0/css/all.min.css&quot;/&gt;\n",
       "    &lt;link rel=&quot;stylesheet&quot; href=&quot;https://cdnjs.cloudflare.com/ajax/libs/Leaflet.awesome-markers/2.0.2/leaflet.awesome-markers.css&quot;/&gt;\n",
       "    &lt;link rel=&quot;stylesheet&quot; href=&quot;https://cdn.jsdelivr.net/gh/python-visualization/folium/folium/templates/leaflet.awesome.rotate.min.css&quot;/&gt;\n",
       "    \n",
       "            &lt;meta name=&quot;viewport&quot; content=&quot;width=device-width,\n",
       "                initial-scale=1.0, maximum-scale=1.0, user-scalable=no&quot; /&gt;\n",
       "            &lt;style&gt;\n",
       "                #map_15b01bdc33616d22e219e5662a279da4 {\n",
       "                    position: relative;\n",
       "                    width: 100.0%;\n",
       "                    height: 100.0%;\n",
       "                    left: 0.0%;\n",
       "                    top: 0.0%;\n",
       "                }\n",
       "                .leaflet-container { font-size: 1rem; }\n",
       "            &lt;/style&gt;\n",
       "        \n",
       "&lt;/head&gt;\n",
       "&lt;body&gt;\n",
       "    \n",
       "    \n",
       "            &lt;div class=&quot;folium-map&quot; id=&quot;map_15b01bdc33616d22e219e5662a279da4&quot; &gt;&lt;/div&gt;\n",
       "        \n",
       "&lt;/body&gt;\n",
       "&lt;script&gt;\n",
       "    \n",
       "    \n",
       "            var map_15b01bdc33616d22e219e5662a279da4 = L.map(\n",
       "                &quot;map_15b01bdc33616d22e219e5662a279da4&quot;,\n",
       "                {\n",
       "                    center: [-21.68851484165698, 122.39111184083444],\n",
       "                    crs: L.CRS.EPSG3857,\n",
       "                    zoom: 13,\n",
       "                    zoomControl: true,\n",
       "                    preferCanvas: false,\n",
       "                }\n",
       "            );\n",
       "\n",
       "            \n",
       "\n",
       "        \n",
       "    \n",
       "            var tile_layer_3c189eb7d93f230e3b7af3aa1225685e = L.tileLayer(\n",
       "                &quot;http://mt1.google.com/vt/lyrs=y\\u0026z={z}\\u0026x={x}\\u0026y={y}&quot;,\n",
       "                {&quot;attribution&quot;: &quot;Google&quot;, &quot;detectRetina&quot;: false, &quot;maxNativeZoom&quot;: 18, &quot;maxZoom&quot;: 18, &quot;minZoom&quot;: 0, &quot;noWrap&quot;: false, &quot;opacity&quot;: 1, &quot;subdomains&quot;: &quot;abc&quot;, &quot;tms&quot;: false}\n",
       "            ).addTo(map_15b01bdc33616d22e219e5662a279da4);\n",
       "        \n",
       "    \n",
       "            var poly_line_b0899d7afe19bd914c601613cd3d0828 = L.polyline(\n",
       "                [[-21.71351484165698, 122.36611184083444], [-21.71351484165698, 122.41611184083443], [-21.66351484165698, 122.41611184083443], [-21.66351484165698, 122.36611184083444], [-21.71351484165698, 122.36611184083444]],\n",
       "                {&quot;bubblingMouseEvents&quot;: true, &quot;color&quot;: &quot;red&quot;, &quot;dashArray&quot;: null, &quot;dashOffset&quot;: null, &quot;fill&quot;: false, &quot;fillColor&quot;: &quot;red&quot;, &quot;fillOpacity&quot;: 0.2, &quot;fillRule&quot;: &quot;evenodd&quot;, &quot;lineCap&quot;: &quot;round&quot;, &quot;lineJoin&quot;: &quot;round&quot;, &quot;noClip&quot;: false, &quot;opacity&quot;: 0.8, &quot;smoothFactor&quot;: 1.0, &quot;stroke&quot;: true, &quot;weight&quot;: 3}\n",
       "            ).addTo(map_15b01bdc33616d22e219e5662a279da4);\n",
       "        \n",
       "    \n",
       "                var lat_lng_popup_d08362908d030526415c7864b5facb9b = L.popup();\n",
       "                function latLngPop(e) {\n",
       "                    lat_lng_popup_d08362908d030526415c7864b5facb9b\n",
       "                        .setLatLng(e.latlng)\n",
       "                        .setContent(&quot;Latitude: &quot; + e.latlng.lat.toFixed(4) +\n",
       "                                    &quot;&lt;br&gt;Longitude: &quot; + e.latlng.lng.toFixed(4))\n",
       "                        .openOn(map_15b01bdc33616d22e219e5662a279da4);\n",
       "                    }\n",
       "                map_15b01bdc33616d22e219e5662a279da4.on(&#x27;click&#x27;, latLngPop);\n",
       "            \n",
       "&lt;/script&gt;\n",
       "&lt;/html&gt;\" style=\"position:absolute;width:100%;height:100%;left:0;top:0;border:none !important;\" allowfullscreen webkitallowfullscreen mozallowfullscreen></iframe></div></div>"
      ],
      "text/plain": [
       "<folium.folium.Map at 0x7fa7a71e10a0>"
      ]
     },
     "execution_count": 112,
     "metadata": {},
     "output_type": "execute_result"
    }
   ],
   "source": [
    "display_map(x=(chunk_0['geometry'].bounds[0],chunk_0['geometry'].bounds[2]), y=(chunk_0['geometry'].bounds[1],chunk_0['geometry'].bounds[3]))"
   ]
  }
 ],
 "metadata": {
  "kernelspec": {
   "display_name": "ecofuture",
   "language": "python",
   "name": "ecofuture"
  },
  "language_info": {
   "codemirror_mode": {
    "name": "ipython",
    "version": 3
   },
   "file_extension": ".py",
   "mimetype": "text/x-python",
   "name": "python",
   "nbconvert_exporter": "python",
   "pygments_lexer": "ipython3",
   "version": "3.9.7"
  }
 },
 "nbformat": 4,
 "nbformat_minor": 5
}
